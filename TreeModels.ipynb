{
  "nbformat": 4,
  "nbformat_minor": 0,
  "metadata": {
    "colab": {
      "provenance": [],
      "authorship_tag": "ABX9TyNCvCSr9P4cwU/fDz8N8+Yz",
      "include_colab_link": true
    },
    "kernelspec": {
      "name": "python3",
      "display_name": "Python 3"
    },
    "language_info": {
      "name": "python"
    }
  },
  "cells": [
    {
      "cell_type": "markdown",
      "metadata": {
        "id": "view-in-github",
        "colab_type": "text"
      },
      "source": [
        "<a href=\"https://colab.research.google.com/github/stephenfrein/fultonlearning/blob/main/TreeModels.ipynb\" target=\"_parent\"><img src=\"https://colab.research.google.com/assets/colab-badge.svg\" alt=\"Open In Colab\"/></a>"
      ]
    },
    {
      "cell_type": "code",
      "source": [
        "### SET UP SPARK ENVIRONMENT ###\n",
        "\n",
        "!apt-get update # Update apt-get repository.\n",
        "!apt-get install openjdk-8-jdk-headless -qq > /dev/null # Install Java.\n",
        "!wget -q http://archive.apache.org/dist/spark/spark-3.1.1/spark-3.1.1-bin-hadoop3.2.tgz # Download Apache Spark\n",
        "!tar xf spark-3.1.1-bin-hadoop3.2.tgz # Unzip the tgz file.\n",
        "!pip install -q findspark # Install findspark. Adds PySpark to the System path during runtime.\n",
        "\n",
        "# Set environment variables\n",
        "import os\n",
        "os.environ[\"JAVA_HOME\"] = \"/usr/lib/jvm/java-8-openjdk-amd64\"\n",
        "os.environ[\"SPARK_HOME\"] = \"/content/spark-3.1.1-bin-hadoop3.2\"\n",
        "\n",
        "!ls\n",
        "\n",
        "# Initialize findspark\n",
        "import findspark\n",
        "findspark.init()\n",
        "\n",
        "# Create a PySpark session\n",
        "from pyspark.sql import SparkSession\n",
        "spark = SparkSession.builder.master(\"local[*]\").getOrCreate()\n",
        "spark"
      ],
      "metadata": {
        "colab": {
          "base_uri": "https://localhost:8080/",
          "height": 480
        },
        "id": "4eIqoxeX__yK",
        "outputId": "404733c7-b438-49f6-e636-c4a6f7b31efb"
      },
      "execution_count": 2,
      "outputs": [
        {
          "output_type": "stream",
          "name": "stdout",
          "text": [
            "\r0% [Working]\r            \rHit:1 https://cloud.r-project.org/bin/linux/ubuntu jammy-cran40/ InRelease\n",
            "Hit:2 https://developer.download.nvidia.com/compute/cuda/repos/ubuntu2204/x86_64  InRelease\n",
            "Hit:3 http://archive.ubuntu.com/ubuntu jammy InRelease\n",
            "Get:4 http://archive.ubuntu.com/ubuntu jammy-updates InRelease [128 kB]\n",
            "Get:5 http://security.ubuntu.com/ubuntu jammy-security InRelease [129 kB]\n",
            "Hit:6 https://ppa.launchpadcontent.net/c2d4u.team/c2d4u4.0+/ubuntu jammy InRelease\n",
            "Hit:7 https://ppa.launchpadcontent.net/deadsnakes/ppa/ubuntu jammy InRelease\n",
            "Hit:8 https://ppa.launchpadcontent.net/graphics-drivers/ppa/ubuntu jammy InRelease\n",
            "Hit:9 http://archive.ubuntu.com/ubuntu jammy-backports InRelease\n",
            "Hit:10 https://ppa.launchpadcontent.net/ubuntugis/ppa/ubuntu jammy InRelease\n",
            "Get:11 http://archive.ubuntu.com/ubuntu jammy-updates/main amd64 Packages [2,160 kB]\n",
            "Fetched 2,417 kB in 5s (478 kB/s)\n",
            "Reading package lists... Done\n",
            "sample_data\t\t   spark-3.1.1-bin-hadoop3.2.tgz\n",
            "spark-3.1.1-bin-hadoop3.2  spark-3.1.1-bin-hadoop3.2.tgz.1\n"
          ]
        },
        {
          "output_type": "execute_result",
          "data": {
            "text/plain": [
              "<pyspark.sql.session.SparkSession at 0x787f5cf4d690>"
            ],
            "text/html": [
              "\n",
              "            <div>\n",
              "                <p><b>SparkSession - in-memory</b></p>\n",
              "                \n",
              "        <div>\n",
              "            <p><b>SparkContext</b></p>\n",
              "\n",
              "            <p><a href=\"http://d3d17cb55eaa:4040\">Spark UI</a></p>\n",
              "\n",
              "            <dl>\n",
              "              <dt>Version</dt>\n",
              "                <dd><code>v3.1.1</code></dd>\n",
              "              <dt>Master</dt>\n",
              "                <dd><code>local[*]</code></dd>\n",
              "              <dt>AppName</dt>\n",
              "                <dd><code>pyspark-shell</code></dd>\n",
              "            </dl>\n",
              "        </div>\n",
              "        \n",
              "            </div>\n",
              "        "
            ]
          },
          "metadata": {},
          "execution_count": 2
        }
      ]
    },
    {
      "cell_type": "code",
      "source": [
        "!wget --no-check-certificate \"https://drive.google.com/uc?export=download&id=1T5419ivX6B3GVVMf3O-SCtFn5GohkSHW\" -O bankmarketing.csv\n",
        "!ls -la"
      ],
      "metadata": {
        "colab": {
          "base_uri": "https://localhost:8080/"
        },
        "id": "OmGbkbPWBFzo",
        "outputId": "2aa89e31-7550-4425-c8b3-0d280eeab0cc"
      },
      "execution_count": 14,
      "outputs": [
        {
          "output_type": "stream",
          "name": "stdout",
          "text": [
            "--2024-06-06 19:47:25--  https://drive.google.com/uc?export=download&id=1T5419ivX6B3GVVMf3O-SCtFn5GohkSHW\n",
            "Resolving drive.google.com (drive.google.com)... 142.250.107.113, 142.250.107.100, 142.250.107.139, ...\n",
            "Connecting to drive.google.com (drive.google.com)|142.250.107.113|:443... connected.\n",
            "HTTP request sent, awaiting response... 303 See Other\n",
            "Location: https://drive.usercontent.google.com/download?id=1T5419ivX6B3GVVMf3O-SCtFn5GohkSHW&export=download [following]\n",
            "--2024-06-06 19:47:25--  https://drive.usercontent.google.com/download?id=1T5419ivX6B3GVVMf3O-SCtFn5GohkSHW&export=download\n",
            "Resolving drive.usercontent.google.com (drive.usercontent.google.com)... 173.194.202.132, 2607:f8b0:400e:c00::84\n",
            "Connecting to drive.usercontent.google.com (drive.usercontent.google.com)|173.194.202.132|:443... connected.\n",
            "HTTP request sent, awaiting response... 200 OK\n",
            "Length: 3751499 (3.6M) [application/octet-stream]\n",
            "Saving to: ‘bankmarketing.csv’\n",
            "\n",
            "bankmarketing.csv   100%[===================>]   3.58M  --.-KB/s    in 0.02s   \n",
            "\n",
            "2024-06-06 19:47:25 (186 MB/s) - ‘bankmarketing.csv’ saved [3751499/3751499]\n",
            "\n",
            "total 454080\n",
            "drwxr-xr-x  1 root root      4096 Jun  6 19:47  .\n",
            "drwxr-xr-x  1 root root      4096 Jun  6 19:15  ..\n",
            "-rw-r--r--  1 root root   3751499 Jun  6 19:09  bankmarketing.csv\n",
            "drwxr-xr-x  4 root root      4096 Jun  5 13:29  .config\n",
            "-rw-r--r--  1 root root         0 Jun  6 19:41  myfile\n",
            "drwxr-xr-x  1 root root      4096 Jun  5 13:35  sample_data\n",
            "drwxr-xr-x 13 1000 1000      4096 Feb 22  2021  spark-3.1.1-bin-hadoop3.2\n",
            "-rw-r--r--  1 root root 228721937 Feb 22  2021  spark-3.1.1-bin-hadoop3.2.tgz\n",
            "-rw-r--r--  1 root root 228721937 Feb 22  2021  spark-3.1.1-bin-hadoop3.2.tgz.1\n",
            "-rw-r--r--  1 root root   3751499 Jun  6 19:09 'uc?export=download&id=1T5419ivX6B3GVVMf3O-SCtFn5GohkSHW'\n"
          ]
        }
      ]
    },
    {
      "cell_type": "code",
      "source": [
        "ls -la"
      ],
      "metadata": {
        "colab": {
          "base_uri": "https://localhost:8080/"
        },
        "id": "JMSa0IMFDGu5",
        "outputId": "109cb4b8-59f8-4a66-c1ac-53e0c67e5816"
      },
      "execution_count": 12,
      "outputs": [
        {
          "output_type": "stream",
          "name": "stdout",
          "text": [
            "total 450416\n",
            "drwxr-xr-x  1 root root      4096 Jun  6 19:46  \u001b[0m\u001b[01;34m.\u001b[0m/\n",
            "drwxr-xr-x  1 root root      4096 Jun  6 19:15  \u001b[01;34m..\u001b[0m/\n",
            "drwxr-xr-x  4 root root      4096 Jun  5 13:29  \u001b[01;34m.config\u001b[0m/\n",
            "-rw-r--r--  1 root root         0 Jun  6 19:41  myfile\n",
            "drwxr-xr-x  1 root root      4096 Jun  5 13:35  \u001b[01;34msample_data\u001b[0m/\n",
            "drwxr-xr-x 13 1000 1000      4096 Feb 22  2021  \u001b[01;34mspark-3.1.1-bin-hadoop3.2\u001b[0m/\n",
            "-rw-r--r--  1 root root 228721937 Feb 22  2021  spark-3.1.1-bin-hadoop3.2.tgz\n",
            "-rw-r--r--  1 root root 228721937 Feb 22  2021  spark-3.1.1-bin-hadoop3.2.tgz.1\n",
            "-rw-r--r--  1 root root   3751499 Jun  6 19:09 'uc?export=download&id=1T5419ivX6B3GVVMf3O-SCtFn5GohkSHW'\n"
          ]
        }
      ]
    },
    {
      "cell_type": "code",
      "execution_count": 16,
      "metadata": {
        "id": "o37zl2QP-Acn",
        "colab": {
          "base_uri": "https://localhost:8080/"
        },
        "outputId": "c7fc98ac-6416-449d-eb72-099c6ec19848"
      },
      "outputs": [
        {
          "output_type": "stream",
          "name": "stdout",
          "text": [
            "+---+------------+--------------+---------------+-------------+------------------+----------------+-----------------+-----------------+-------------------------+--------------------+---------------------+------------------------+-----------------------+---------------------+----------------------+----------------+\n",
            "|age|    job_type|marital_status|education_level|is_in_default|avg_yearly_balance|has_housing_loan|has_personal_loan|last_contact_type|last_contact_day_of_month|last_contactct_month|last_contact_duration|contacts_during_campaign|days_since_last_contact|number_prior_contacts|prior_campaign_outcome|campaign_outcome|\n",
            "+---+------------+--------------+---------------+-------------+------------------+----------------+-----------------+-----------------+-------------------------+--------------------+---------------------+------------------------+-----------------------+---------------------+----------------------+----------------+\n",
            "| 58|  management|       married|       tertiary|           no|              2143|             yes|               no|          unknown|                        5|                 may|                  261|                       1|                     -1|                    0|               unknown|              no|\n",
            "| 44|  technician|        single|      secondary|           no|                29|             yes|               no|          unknown|                        5|                 may|                  151|                       1|                     -1|                    0|               unknown|              no|\n",
            "| 33|entrepreneur|       married|      secondary|           no|                 2|             yes|              yes|          unknown|                        5|                 may|                   76|                       1|                     -1|                    0|               unknown|              no|\n",
            "| 47| blue-collar|       married|        unknown|           no|              1506|             yes|               no|          unknown|                        5|                 may|                   92|                       1|                     -1|                    0|               unknown|              no|\n",
            "| 33|     unknown|        single|        unknown|           no|                 1|              no|               no|          unknown|                        5|                 may|                  198|                       1|                     -1|                    0|               unknown|              no|\n",
            "+---+------------+--------------+---------------+-------------+------------------+----------------+-----------------+-----------------+-------------------------+--------------------+---------------------+------------------------+-----------------------+---------------------+----------------------+----------------+\n",
            "only showing top 5 rows\n",
            "\n"
          ]
        }
      ],
      "source": [
        "df = spark.read.csv(\"bankmarketing.csv\", header=True)\n",
        "df.show(5)"
      ]
    }
  ]
}